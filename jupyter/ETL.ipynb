{
 "cells": [
  {
   "cell_type": "code",
   "execution_count": 22,
   "metadata": {},
   "outputs": [],
   "source": [
    "import pandas as pd\n",
    "import numpy as np\n",
    "from sqlalchemy import create_engine\n",
    "import sqlite3"
   ]
  },
  {
   "cell_type": "code",
   "execution_count": 23,
   "metadata": {},
   "outputs": [],
   "source": [
    "#primer archivo a procesar e insertar en la base de datos\n",
    "df_20200413=pd.read_csv(r'C:\\Users\\ROXI\\OneDrive\\Escritorio\\dataset procesados\\jupyter\\precios_semana_20200413_csv.csv')"
   ]
  },
  {
   "cell_type": "code",
   "execution_count": 24,
   "metadata": {},
   "outputs": [],
   "source": [
    "#segundo archivo a procesar e insertar en la base de datos\n",
    "sheet2=pd.read_csv(r'C:\\Users\\ROXI\\OneDrive\\Escritorio\\dataset procesados\\jupyter\\precios_semana_20200419_csv.csv')"
   ]
  },
  {
   "cell_type": "markdown",
   "metadata": {},
   "source": [
    "#tercer archivo a procesar e insertar en la base de datos"
   ]
  },
  {
   "cell_type": "code",
   "execution_count": 25,
   "metadata": {},
   "outputs": [],
   "source": [
    "sheet1=pd.read_csv(r'C:\\Users\\ROXI\\OneDrive\\Escritorio\\dataset procesados\\jupyter\\precios_semana_20200426_csv.csv')"
   ]
  },
  {
   "cell_type": "code",
   "execution_count": 31,
   "metadata": {},
   "outputs": [],
   "source": [
    "#cuarto archivo a procesar e insertar en la base de datos\n",
    "df_20200503=pd.read_csv(r'C:\\Users\\ROXI\\OneDrive\\Escritorio\\dataset procesados\\jupyter\\precios_semana_20200503_csv.csv')"
   ]
  },
  {
   "cell_type": "code",
   "execution_count": null,
   "metadata": {},
   "outputs": [],
   "source": [
    "semana_20200518=pd.read_csv(r'C:\\Users\\ROXI\\OneDrive\\Escritorio\\dataset procesados\\jupyter\\precios_semana_20200518_csv.csv')"
   ]
  },
  {
   "cell_type": "code",
   "execution_count": 26,
   "metadata": {},
   "outputs": [],
   "source": [
    "sucursal=pd.read_csv(r'C:\\Users\\ROXI\\OneDrive\\Escritorio\\dataset procesados\\Datasets relevamiento precios\\sucursal.csv')"
   ]
  },
  {
   "cell_type": "code",
   "execution_count": null,
   "metadata": {},
   "outputs": [],
   "source": [
    "producto_parquet=pd.read_csv(r'C:\\Users\\ROXI\\OneDrive\\Escritorio\\dataset procesados\\jupyter\\producto_parquet_csv.csv')"
   ]
  },
  {
   "cell_type": "code",
   "execution_count": null,
   "metadata": {},
   "outputs": [],
   "source": [
    "sheet1.info()"
   ]
  },
  {
   "cell_type": "code",
   "execution_count": null,
   "metadata": {},
   "outputs": [],
   "source": [
    "sheet1.isnull().sum()"
   ]
  },
  {
   "cell_type": "markdown",
   "metadata": {},
   "source": [
    "si es nulo precio se agrega un 1 a la columna col_added"
   ]
  },
  {
   "cell_type": "code",
   "execution_count": 27,
   "metadata": {},
   "outputs": [],
   "source": [
    "def add_a_b(a, b, c):\n",
    "            \n",
    "            if (a==True or b==True or c==True):\n",
    "                return 1\n",
    "            else:\n",
    "                return 0\n"
   ]
  },
  {
   "cell_type": "code",
   "execution_count": 28,
   "metadata": {},
   "outputs": [],
   "source": [
    "\n",
    "def columna_boolean_nan(sheet1):\n",
    "    COL1= sheet1[\"precio\"].isnull()\n",
    "    sheet1[\"bool1_precio\"] = COL1\n",
    "    COL2= sheet1[\"producto_id\"].isnull()\n",
    "    sheet1[\"bool2_producto_id\"] = COL2\n",
    "    COL3=sheet1[\"sucursal_id\"].isnull()\n",
    "    sheet1[\"bool3_sucursal_id\"] = COL3\n",
    "        \n",
    "    sheet1[\"col_added\"] = sheet1.apply(lambda x: add_a_b(x[\"bool1_precio\"], x[\"bool2_producto_id\"],x[\"bool3_sucursal_id\"]), axis = 1)\n",
    "    sheet1=sheet1.drop(columns=[\"bool1_precio\",\"bool2_producto_id\",\"bool3_sucursal_id\"])\n",
    "    return sheet1"
   ]
  },
  {
   "cell_type": "code",
   "execution_count": null,
   "metadata": {},
   "outputs": [],
   "source": [
    "new_df"
   ]
  },
  {
   "cell_type": "code",
   "execution_count": null,
   "metadata": {},
   "outputs": [],
   "source": [
    "sheet1"
   ]
  },
  {
   "cell_type": "code",
   "execution_count": 29,
   "metadata": {},
   "outputs": [],
   "source": [
    "def cortar_columna_sucursal_id_precio(df_precio):\n",
    "    df_precio[\"sucursal_id\"]=df_precio[\"sucursal_id\"].astype('str')\n",
    "    new2 = df_precio[\"sucursal_id\"].str.split(\" \", n = 1, expand = True)\n",
    "    df_precio[\"sucursal_id\"]=new2[0]\n",
    "    return df_precio"
   ]
  },
  {
   "cell_type": "code",
   "execution_count": 8,
   "metadata": {},
   "outputs": [],
   "source": [
    "def array_col_id_unicos(df_sucursal,nombre_de_columna):\n",
    "    list=[]\n",
    "    df_sucursal[nombre_de_columna]=df_sucursal[nombre_de_columna].astype('str')\n",
    "    new2 = df_sucursal[nombre_de_columna].str.split(\"-\", n = 2, expand = True)\n",
    "    list=df_sucursal[nombre_de_columna]\n",
    "    col_unicos=list.unique()\n",
    "    return col_unicos"
   ]
  },
  {
   "cell_type": "markdown",
   "metadata": {},
   "source": [
    "saco el punto decimal que tiene la columna id producto\n",
    "completa con ceros a la izquierda"
   ]
  },
  {
   "cell_type": "code",
   "execution_count": 9,
   "metadata": {},
   "outputs": [],
   "source": [
    "def borrar_nan_producto_id(sheet1):\n",
    "    sheet1[\"producto_id\"]=sheet1[\"producto_id\"].astype('str')\n",
    "    rep = {'NaN':'0.0','nan':'0.0',}\n",
    "    sheet1[\"producto_id\"] =sheet1[\"producto_id\"].replace(rep, regex=True)\n",
    "    new1= sheet1[\"producto_id\"].str.split(\".\", n = 1, expand = True)\n",
    "    sheet1[\"producto_id\"]=new1[0]\n",
    "    sheet1[\"producto_id\"]= sheet1[\"producto_id\"].str.zfill(13)\n",
    "    return sheet1"
   ]
  },
  {
   "cell_type": "markdown",
   "metadata": {},
   "source": [
    "Primer archivo"
   ]
  },
  {
   "cell_type": "code",
   "execution_count": 11,
   "metadata": {},
   "outputs": [],
   "source": [
    "\n",
    "new_df=columna_boolean_nan(df_20200413)\n",
    "new_df1=borrar_nan_producto_id(new_df)\n",
    "sheet1=new_df1.copy()"
   ]
  },
  {
   "cell_type": "code",
   "execution_count": null,
   "metadata": {},
   "outputs": [],
   "source": [
    "df_20200413.isnull().sum()"
   ]
  },
  {
   "cell_type": "markdown",
   "metadata": {},
   "source": [
    "filtro los nan buscando en la columna col_added los 1 (unos)"
   ]
  },
  {
   "cell_type": "code",
   "execution_count": null,
   "metadata": {},
   "outputs": [],
   "source": [
    "sheet1[sheet1[\"col_added\"]==1].shape"
   ]
  },
  {
   "cell_type": "code",
   "execution_count": 12,
   "metadata": {},
   "outputs": [],
   "source": [
    "sheet1[\"numero_archivo\"]=1"
   ]
  },
  {
   "cell_type": "code",
   "execution_count": null,
   "metadata": {},
   "outputs": [],
   "source": [
    "sheet1"
   ]
  },
  {
   "cell_type": "code",
   "execution_count": 30,
   "metadata": {},
   "outputs": [],
   "source": [
    "try :\n",
    "    mi_conexion=sqlite3.connect(\"miprimera.bd\")\n",
    "    cursor_obj = mi_conexion.cursor()\n",
    "except Exception as ex:\n",
    "    print(ex)"
   ]
  },
  {
   "cell_type": "code",
   "execution_count": 37,
   "metadata": {},
   "outputs": [],
   "source": [
    "sheet2[\"numero_archivo\"]=2"
   ]
  },
  {
   "cell_type": "code",
   "execution_count": 39,
   "metadata": {},
   "outputs": [],
   "source": [
    "df_precios_=pd.read_sql(\"SELECT * FROM precios\", mi_conexion)\n",
    "precios_concat = pd.concat([df_precios_, sheet2])"
   ]
  },
  {
   "cell_type": "code",
   "execution_count": 46,
   "metadata": {},
   "outputs": [
    {
     "data": {
      "text/html": [
       "<div>\n",
       "<style scoped>\n",
       "    .dataframe tbody tr th:only-of-type {\n",
       "        vertical-align: middle;\n",
       "    }\n",
       "\n",
       "    .dataframe tbody tr th {\n",
       "        vertical-align: top;\n",
       "    }\n",
       "\n",
       "    .dataframe thead th {\n",
       "        text-align: right;\n",
       "    }\n",
       "</style>\n",
       "<table border=\"1\" class=\"dataframe\">\n",
       "  <thead>\n",
       "    <tr style=\"text-align: right;\">\n",
       "      <th></th>\n",
       "      <th>sucursal_id</th>\n",
       "      <th>producto_id</th>\n",
       "      <th>precio</th>\n",
       "      <th>col_added</th>\n",
       "      <th>numero_archivo</th>\n",
       "    </tr>\n",
       "  </thead>\n",
       "  <tbody>\n",
       "    <tr>\n",
       "      <th>0</th>\n",
       "      <td>2-1-014</td>\n",
       "      <td>0000000001663</td>\n",
       "      <td>29.90</td>\n",
       "      <td>0</td>\n",
       "      <td>1</td>\n",
       "    </tr>\n",
       "    <tr>\n",
       "      <th>1</th>\n",
       "      <td>2-1-032</td>\n",
       "      <td>0000000002288</td>\n",
       "      <td>29.90</td>\n",
       "      <td>0</td>\n",
       "      <td>1</td>\n",
       "    </tr>\n",
       "    <tr>\n",
       "      <th>2</th>\n",
       "      <td>2-1-096</td>\n",
       "      <td>0000000002288</td>\n",
       "      <td>39.90</td>\n",
       "      <td>0</td>\n",
       "      <td>1</td>\n",
       "    </tr>\n",
       "    <tr>\n",
       "      <th>3</th>\n",
       "      <td>9-1-686</td>\n",
       "      <td>0000000205870</td>\n",
       "      <td>499.99</td>\n",
       "      <td>0</td>\n",
       "      <td>1</td>\n",
       "    </tr>\n",
       "    <tr>\n",
       "      <th>4</th>\n",
       "      <td>9-2-248</td>\n",
       "      <td>0000000205870</td>\n",
       "      <td>519.99</td>\n",
       "      <td>0</td>\n",
       "      <td>1</td>\n",
       "    </tr>\n",
       "    <tr>\n",
       "      <th>...</th>\n",
       "      <td>...</td>\n",
       "      <td>...</td>\n",
       "      <td>...</td>\n",
       "      <td>...</td>\n",
       "      <td>...</td>\n",
       "    </tr>\n",
       "    <tr>\n",
       "      <th>472161</th>\n",
       "      <td>25-1-1</td>\n",
       "      <td>9569753142128</td>\n",
       "      <td>139.99</td>\n",
       "      <td>0</td>\n",
       "      <td>1</td>\n",
       "    </tr>\n",
       "    <tr>\n",
       "      <th>472162</th>\n",
       "      <td>25-1-1</td>\n",
       "      <td>9795403001143</td>\n",
       "      <td>34.99</td>\n",
       "      <td>0</td>\n",
       "      <td>1</td>\n",
       "    </tr>\n",
       "    <tr>\n",
       "      <th>472163</th>\n",
       "      <td>5-1-3</td>\n",
       "      <td>9990385651922</td>\n",
       "      <td>312.50</td>\n",
       "      <td>0</td>\n",
       "      <td>1</td>\n",
       "    </tr>\n",
       "    <tr>\n",
       "      <th>472164</th>\n",
       "      <td>5-1-3</td>\n",
       "      <td>9990385651939</td>\n",
       "      <td>312.50</td>\n",
       "      <td>0</td>\n",
       "      <td>1</td>\n",
       "    </tr>\n",
       "    <tr>\n",
       "      <th>472165</th>\n",
       "      <td>5-1-3</td>\n",
       "      <td>9990385651946</td>\n",
       "      <td>198.90</td>\n",
       "      <td>0</td>\n",
       "      <td>1</td>\n",
       "    </tr>\n",
       "  </tbody>\n",
       "</table>\n",
       "<p>472166 rows × 5 columns</p>\n",
       "</div>"
      ],
      "text/plain": [
       "       sucursal_id    producto_id  precio  col_added  numero_archivo\n",
       "0          2-1-014  0000000001663   29.90          0               1\n",
       "1          2-1-032  0000000002288   29.90          0               1\n",
       "2          2-1-096  0000000002288   39.90          0               1\n",
       "3          9-1-686  0000000205870  499.99          0               1\n",
       "4          9-2-248  0000000205870  519.99          0               1\n",
       "...            ...            ...     ...        ...             ...\n",
       "472161      25-1-1  9569753142128  139.99          0               1\n",
       "472162      25-1-1  9795403001143   34.99          0               1\n",
       "472163       5-1-3  9990385651922  312.50          0               1\n",
       "472164       5-1-3  9990385651939  312.50          0               1\n",
       "472165       5-1-3  9990385651946  198.90          0               1\n",
       "\n",
       "[472166 rows x 5 columns]"
      ]
     },
     "execution_count": 46,
     "metadata": {},
     "output_type": "execute_result"
    }
   ],
   "source": [
    "df_precios_"
   ]
  },
  {
   "cell_type": "code",
   "execution_count": 48,
   "metadata": {},
   "outputs": [],
   "source": [
    "sheet2.to_sql('precios_temp', con=mi_conexion, index=False, index_label='id', if_exists='replace')\n",
    "\n",
    "df_precios_=pd.read_sql(\"SELECT sucursal_id,producto_id,precio,numero_archivo FROM precios UNION ALL SELECT sucursal_id,producto_id,precio,numero_archivo FROM precios_temp\", mi_conexion)\n"
   ]
  },
  {
   "cell_type": "code",
   "execution_count": 49,
   "metadata": {},
   "outputs": [
    {
     "data": {
      "text/html": [
       "<div>\n",
       "<style scoped>\n",
       "    .dataframe tbody tr th:only-of-type {\n",
       "        vertical-align: middle;\n",
       "    }\n",
       "\n",
       "    .dataframe tbody tr th {\n",
       "        vertical-align: top;\n",
       "    }\n",
       "\n",
       "    .dataframe thead th {\n",
       "        text-align: right;\n",
       "    }\n",
       "</style>\n",
       "<table border=\"1\" class=\"dataframe\">\n",
       "  <thead>\n",
       "    <tr style=\"text-align: right;\">\n",
       "      <th></th>\n",
       "      <th>sucursal_id</th>\n",
       "      <th>producto_id</th>\n",
       "      <th>precio</th>\n",
       "      <th>numero_archivo</th>\n",
       "    </tr>\n",
       "  </thead>\n",
       "  <tbody>\n",
       "    <tr>\n",
       "      <th>0</th>\n",
       "      <td>2-1-014</td>\n",
       "      <td>0000000001663</td>\n",
       "      <td>29.90</td>\n",
       "      <td>1</td>\n",
       "    </tr>\n",
       "    <tr>\n",
       "      <th>1</th>\n",
       "      <td>2-1-032</td>\n",
       "      <td>0000000002288</td>\n",
       "      <td>29.90</td>\n",
       "      <td>1</td>\n",
       "    </tr>\n",
       "    <tr>\n",
       "      <th>2</th>\n",
       "      <td>2-1-096</td>\n",
       "      <td>0000000002288</td>\n",
       "      <td>39.90</td>\n",
       "      <td>1</td>\n",
       "    </tr>\n",
       "    <tr>\n",
       "      <th>3</th>\n",
       "      <td>9-1-686</td>\n",
       "      <td>0000000205870</td>\n",
       "      <td>499.99</td>\n",
       "      <td>1</td>\n",
       "    </tr>\n",
       "    <tr>\n",
       "      <th>4</th>\n",
       "      <td>9-2-248</td>\n",
       "      <td>0000000205870</td>\n",
       "      <td>519.99</td>\n",
       "      <td>1</td>\n",
       "    </tr>\n",
       "    <tr>\n",
       "      <th>...</th>\n",
       "      <td>...</td>\n",
       "      <td>...</td>\n",
       "      <td>...</td>\n",
       "      <td>...</td>\n",
       "    </tr>\n",
       "    <tr>\n",
       "      <th>930704</th>\n",
       "      <td>2001-01-25 00:00:00</td>\n",
       "      <td>9569753142128.0</td>\n",
       "      <td>139.99</td>\n",
       "      <td>2</td>\n",
       "    </tr>\n",
       "    <tr>\n",
       "      <th>930705</th>\n",
       "      <td>2001-01-25 00:00:00</td>\n",
       "      <td>9795403001143.0</td>\n",
       "      <td>34.99</td>\n",
       "      <td>2</td>\n",
       "    </tr>\n",
       "    <tr>\n",
       "      <th>930706</th>\n",
       "      <td>2003-01-05 00:00:00</td>\n",
       "      <td>9990385651922.0</td>\n",
       "      <td>312.50</td>\n",
       "      <td>2</td>\n",
       "    </tr>\n",
       "    <tr>\n",
       "      <th>930707</th>\n",
       "      <td>2003-01-05 00:00:00</td>\n",
       "      <td>9990385651939.0</td>\n",
       "      <td>312.50</td>\n",
       "      <td>2</td>\n",
       "    </tr>\n",
       "    <tr>\n",
       "      <th>930708</th>\n",
       "      <td>2003-01-05 00:00:00</td>\n",
       "      <td>9990385651946.0</td>\n",
       "      <td>198.90</td>\n",
       "      <td>2</td>\n",
       "    </tr>\n",
       "  </tbody>\n",
       "</table>\n",
       "<p>930709 rows × 4 columns</p>\n",
       "</div>"
      ],
      "text/plain": [
       "                sucursal_id      producto_id  precio  numero_archivo\n",
       "0                   2-1-014    0000000001663   29.90               1\n",
       "1                   2-1-032    0000000002288   29.90               1\n",
       "2                   2-1-096    0000000002288   39.90               1\n",
       "3                   9-1-686    0000000205870  499.99               1\n",
       "4                   9-2-248    0000000205870  519.99               1\n",
       "...                     ...              ...     ...             ...\n",
       "930704  2001-01-25 00:00:00  9569753142128.0  139.99               2\n",
       "930705  2001-01-25 00:00:00  9795403001143.0   34.99               2\n",
       "930706  2003-01-05 00:00:00  9990385651922.0  312.50               2\n",
       "930707  2003-01-05 00:00:00  9990385651939.0  312.50               2\n",
       "930708  2003-01-05 00:00:00  9990385651946.0  198.90               2\n",
       "\n",
       "[930709 rows x 4 columns]"
      ]
     },
     "execution_count": 49,
     "metadata": {},
     "output_type": "execute_result"
    }
   ],
   "source": [
    "df_precios_"
   ]
  },
  {
   "cell_type": "code",
   "execution_count": 47,
   "metadata": {},
   "outputs": [
    {
     "data": {
      "text/html": [
       "<div>\n",
       "<style scoped>\n",
       "    .dataframe tbody tr th:only-of-type {\n",
       "        vertical-align: middle;\n",
       "    }\n",
       "\n",
       "    .dataframe tbody tr th {\n",
       "        vertical-align: top;\n",
       "    }\n",
       "\n",
       "    .dataframe thead th {\n",
       "        text-align: right;\n",
       "    }\n",
       "</style>\n",
       "<table border=\"1\" class=\"dataframe\">\n",
       "  <thead>\n",
       "    <tr style=\"text-align: right;\">\n",
       "      <th></th>\n",
       "      <th>sucursal_id</th>\n",
       "      <th>producto_id</th>\n",
       "      <th>precio</th>\n",
       "      <th>numero_archivo</th>\n",
       "    </tr>\n",
       "  </thead>\n",
       "  <tbody>\n",
       "    <tr>\n",
       "      <th>0</th>\n",
       "      <td>2-1-184</td>\n",
       "      <td>2288.0</td>\n",
       "      <td>29.90</td>\n",
       "      <td>2</td>\n",
       "    </tr>\n",
       "    <tr>\n",
       "      <th>1</th>\n",
       "      <td>2-1-206</td>\n",
       "      <td>2288.0</td>\n",
       "      <td>39.90</td>\n",
       "      <td>2</td>\n",
       "    </tr>\n",
       "    <tr>\n",
       "      <th>2</th>\n",
       "      <td>9-1-430</td>\n",
       "      <td>205870.0</td>\n",
       "      <td>499.99</td>\n",
       "      <td>2</td>\n",
       "    </tr>\n",
       "    <tr>\n",
       "      <th>3</th>\n",
       "      <td>9-2-107</td>\n",
       "      <td>205870.0</td>\n",
       "      <td>539.99</td>\n",
       "      <td>2</td>\n",
       "    </tr>\n",
       "    <tr>\n",
       "      <th>4</th>\n",
       "      <td>5218-03-09 00:00:00</td>\n",
       "      <td>205870.0</td>\n",
       "      <td>539.99</td>\n",
       "      <td>2</td>\n",
       "    </tr>\n",
       "    <tr>\n",
       "      <th>...</th>\n",
       "      <td>...</td>\n",
       "      <td>...</td>\n",
       "      <td>...</td>\n",
       "      <td>...</td>\n",
       "    </tr>\n",
       "    <tr>\n",
       "      <th>458538</th>\n",
       "      <td>2001-01-25 00:00:00</td>\n",
       "      <td>9569753142128.0</td>\n",
       "      <td>139.99</td>\n",
       "      <td>2</td>\n",
       "    </tr>\n",
       "    <tr>\n",
       "      <th>458539</th>\n",
       "      <td>2001-01-25 00:00:00</td>\n",
       "      <td>9795403001143.0</td>\n",
       "      <td>34.99</td>\n",
       "      <td>2</td>\n",
       "    </tr>\n",
       "    <tr>\n",
       "      <th>458540</th>\n",
       "      <td>2003-01-05 00:00:00</td>\n",
       "      <td>9990385651922.0</td>\n",
       "      <td>312.50</td>\n",
       "      <td>2</td>\n",
       "    </tr>\n",
       "    <tr>\n",
       "      <th>458541</th>\n",
       "      <td>2003-01-05 00:00:00</td>\n",
       "      <td>9990385651939.0</td>\n",
       "      <td>312.50</td>\n",
       "      <td>2</td>\n",
       "    </tr>\n",
       "    <tr>\n",
       "      <th>458542</th>\n",
       "      <td>2003-01-05 00:00:00</td>\n",
       "      <td>9990385651946.0</td>\n",
       "      <td>198.90</td>\n",
       "      <td>2</td>\n",
       "    </tr>\n",
       "  </tbody>\n",
       "</table>\n",
       "<p>458543 rows × 4 columns</p>\n",
       "</div>"
      ],
      "text/plain": [
       "                sucursal_id      producto_id  precio  numero_archivo\n",
       "0                   2-1-184           2288.0   29.90               2\n",
       "1                   2-1-206           2288.0   39.90               2\n",
       "2                   9-1-430         205870.0  499.99               2\n",
       "3                   9-2-107         205870.0  539.99               2\n",
       "4       5218-03-09 00:00:00         205870.0  539.99               2\n",
       "...                     ...              ...     ...             ...\n",
       "458538  2001-01-25 00:00:00  9569753142128.0  139.99               2\n",
       "458539  2001-01-25 00:00:00  9795403001143.0   34.99               2\n",
       "458540  2003-01-05 00:00:00  9990385651922.0  312.50               2\n",
       "458541  2003-01-05 00:00:00  9990385651939.0  312.50               2\n",
       "458542  2003-01-05 00:00:00  9990385651946.0  198.90               2\n",
       "\n",
       "[458543 rows x 4 columns]"
      ]
     },
     "execution_count": 47,
     "metadata": {},
     "output_type": "execute_result"
    }
   ],
   "source": [
    "sheet2"
   ]
  },
  {
   "cell_type": "code",
   "execution_count": 41,
   "metadata": {},
   "outputs": [
    {
     "data": {
      "text/html": [
       "<div>\n",
       "<style scoped>\n",
       "    .dataframe tbody tr th:only-of-type {\n",
       "        vertical-align: middle;\n",
       "    }\n",
       "\n",
       "    .dataframe tbody tr th {\n",
       "        vertical-align: top;\n",
       "    }\n",
       "\n",
       "    .dataframe thead th {\n",
       "        text-align: right;\n",
       "    }\n",
       "</style>\n",
       "<table border=\"1\" class=\"dataframe\">\n",
       "  <thead>\n",
       "    <tr style=\"text-align: right;\">\n",
       "      <th></th>\n",
       "      <th>sucursal_id</th>\n",
       "      <th>producto_id</th>\n",
       "      <th>precio</th>\n",
       "      <th>col_added</th>\n",
       "      <th>numero_archivo</th>\n",
       "    </tr>\n",
       "  </thead>\n",
       "  <tbody>\n",
       "    <tr>\n",
       "      <th>0</th>\n",
       "      <td>2-1-014</td>\n",
       "      <td>0000000001663</td>\n",
       "      <td>29.90</td>\n",
       "      <td>0.0</td>\n",
       "      <td>1</td>\n",
       "    </tr>\n",
       "    <tr>\n",
       "      <th>1</th>\n",
       "      <td>2-1-032</td>\n",
       "      <td>0000000002288</td>\n",
       "      <td>29.90</td>\n",
       "      <td>0.0</td>\n",
       "      <td>1</td>\n",
       "    </tr>\n",
       "    <tr>\n",
       "      <th>2</th>\n",
       "      <td>2-1-096</td>\n",
       "      <td>0000000002288</td>\n",
       "      <td>39.90</td>\n",
       "      <td>0.0</td>\n",
       "      <td>1</td>\n",
       "    </tr>\n",
       "    <tr>\n",
       "      <th>3</th>\n",
       "      <td>9-1-686</td>\n",
       "      <td>0000000205870</td>\n",
       "      <td>499.99</td>\n",
       "      <td>0.0</td>\n",
       "      <td>1</td>\n",
       "    </tr>\n",
       "    <tr>\n",
       "      <th>4</th>\n",
       "      <td>9-2-248</td>\n",
       "      <td>0000000205870</td>\n",
       "      <td>519.99</td>\n",
       "      <td>0.0</td>\n",
       "      <td>1</td>\n",
       "    </tr>\n",
       "    <tr>\n",
       "      <th>...</th>\n",
       "      <td>...</td>\n",
       "      <td>...</td>\n",
       "      <td>...</td>\n",
       "      <td>...</td>\n",
       "      <td>...</td>\n",
       "    </tr>\n",
       "    <tr>\n",
       "      <th>472161</th>\n",
       "      <td>25-1-1</td>\n",
       "      <td>9569753142128</td>\n",
       "      <td>139.99</td>\n",
       "      <td>0.0</td>\n",
       "      <td>1</td>\n",
       "    </tr>\n",
       "    <tr>\n",
       "      <th>472162</th>\n",
       "      <td>25-1-1</td>\n",
       "      <td>9795403001143</td>\n",
       "      <td>34.99</td>\n",
       "      <td>0.0</td>\n",
       "      <td>1</td>\n",
       "    </tr>\n",
       "    <tr>\n",
       "      <th>472163</th>\n",
       "      <td>5-1-3</td>\n",
       "      <td>9990385651922</td>\n",
       "      <td>312.50</td>\n",
       "      <td>0.0</td>\n",
       "      <td>1</td>\n",
       "    </tr>\n",
       "    <tr>\n",
       "      <th>472164</th>\n",
       "      <td>5-1-3</td>\n",
       "      <td>9990385651939</td>\n",
       "      <td>312.50</td>\n",
       "      <td>0.0</td>\n",
       "      <td>1</td>\n",
       "    </tr>\n",
       "    <tr>\n",
       "      <th>472165</th>\n",
       "      <td>5-1-3</td>\n",
       "      <td>9990385651946</td>\n",
       "      <td>198.90</td>\n",
       "      <td>0.0</td>\n",
       "      <td>1</td>\n",
       "    </tr>\n",
       "  </tbody>\n",
       "</table>\n",
       "<p>472166 rows × 5 columns</p>\n",
       "</div>"
      ],
      "text/plain": [
       "       sucursal_id    producto_id  precio  col_added  numero_archivo\n",
       "0          2-1-014  0000000001663   29.90        0.0               1\n",
       "1          2-1-032  0000000002288   29.90        0.0               1\n",
       "2          2-1-096  0000000002288   39.90        0.0               1\n",
       "3          9-1-686  0000000205870  499.99        0.0               1\n",
       "4          9-2-248  0000000205870  519.99        0.0               1\n",
       "...            ...            ...     ...        ...             ...\n",
       "472161      25-1-1  9569753142128  139.99        0.0               1\n",
       "472162      25-1-1  9795403001143   34.99        0.0               1\n",
       "472163       5-1-3  9990385651922  312.50        0.0               1\n",
       "472164       5-1-3  9990385651939  312.50        0.0               1\n",
       "472165       5-1-3  9990385651946  198.90        0.0               1\n",
       "\n",
       "[472166 rows x 5 columns]"
      ]
     },
     "execution_count": 41,
     "metadata": {},
     "output_type": "execute_result"
    }
   ],
   "source": [
    "precios_concat[precios_concat[\"numero_archivo\"]==1]"
   ]
  },
  {
   "cell_type": "code",
   "execution_count": 15,
   "metadata": {},
   "outputs": [
    {
     "data": {
      "text/plain": [
       "472166"
      ]
     },
     "execution_count": 15,
     "metadata": {},
     "output_type": "execute_result"
    }
   ],
   "source": [
    "sheet1.to_sql('precios', con=mi_conexion, index=False, index_label='id', if_exists='replace')"
   ]
  },
  {
   "cell_type": "code",
   "execution_count": 16,
   "metadata": {},
   "outputs": [],
   "source": [
    "df_final=sheet1[sheet1[\"col_added\"]==0]"
   ]
  },
  {
   "cell_type": "code",
   "execution_count": 17,
   "metadata": {},
   "outputs": [
    {
     "data": {
      "text/plain": [
       "472151"
      ]
     },
     "execution_count": 17,
     "metadata": {},
     "output_type": "execute_result"
    }
   ],
   "source": [
    "df_final.to_sql('precios_final', con=mi_conexion, index=False, index_label='id', if_exists='replace')"
   ]
  },
  {
   "cell_type": "code",
   "execution_count": null,
   "metadata": {},
   "outputs": [],
   "source": [
    "sheet1"
   ]
  },
  {
   "cell_type": "markdown",
   "metadata": {},
   "source": [
    "Segundo archivo"
   ]
  },
  {
   "cell_type": "code",
   "execution_count": 18,
   "metadata": {},
   "outputs": [
    {
     "name": "stderr",
     "output_type": "stream",
     "text": [
      "C:\\Users\\ROXI\\AppData\\Local\\Temp\\ipykernel_1924\\3496743843.py:32: SettingWithCopyWarning: \n",
      "A value is trying to be set on a copy of a slice from a DataFrame.\n",
      "Try using .loc[row_indexer,col_indexer] = value instead\n",
      "\n",
      "See the caveats in the documentation: https://pandas.pydata.org/pandas-docs/stable/user_guide/indexing.html#returning-a-view-versus-a-copy\n",
      "  DF[\"col_added\"]=1\n"
     ]
    }
   ],
   "source": [
    "sheet2[\"col_added\"]=0\n",
    "new_df=columna_boolean_nan(sheet2)\n",
    "new_df1=borrar_nan_producto_id(new_df)\n",
    "sheet2=new_df1.copy()\n",
    "new_df1=cortar_columna_sucursal_id_precio(sheet2)\n",
    "\"\"\"comprobar sucursalId si no coincide con id de la tabla sucursal se marca con 1 la columna col_added\"\"\"\n",
    "list_suc_unicos=[]\n",
    "list_suc_prec=[]\n",
    "sheet2=new_df1.copy()\n",
    "list_suc_unicos=array_col_id_unicos(sucursal,\"id\")\n",
    "list_suc_prec=array_col_id_unicos(sheet2,\"sucursal_id\")\n",
    "\n",
    "lis_bin=[]\n",
    "lis_id=[]\n",
    "for e in list_suc_prec:\n",
    "    for i in list_suc_unicos:\n",
    "        if(e == i):\n",
    "            result_id=0\n",
    "        else:\n",
    "            result_id=1\n",
    "            \n",
    "        if (result_id == 0):\n",
    "            break  \n",
    "    lis_bin.append(result_id)\n",
    "    lis_id.append(e)\n",
    "list_zip=list(zip(lis_id,lis_bin))\n",
    "DF=pd.DataFrame()\n",
    "for e,num in enumerate(list_zip):\n",
    "    #print(e,num[0],num[1])\n",
    "    if(num[1]==1):\n",
    "        DF=sheet2[sheet2[\"sucursal_id\"]==num[0]]\n",
    "        DF[\"col_added\"]=1\n",
    "        sheet2[sheet2[\"sucursal_id\"]==num[0]]=DF"
   ]
  },
  {
   "cell_type": "code",
   "execution_count": 19,
   "metadata": {},
   "outputs": [],
   "source": [
    "sheet2[\"numero_archivo\"]=2"
   ]
  },
  {
   "cell_type": "code",
   "execution_count": 52,
   "metadata": {},
   "outputs": [
    {
     "data": {
      "text/html": [
       "<div>\n",
       "<style scoped>\n",
       "    .dataframe tbody tr th:only-of-type {\n",
       "        vertical-align: middle;\n",
       "    }\n",
       "\n",
       "    .dataframe tbody tr th {\n",
       "        vertical-align: top;\n",
       "    }\n",
       "\n",
       "    .dataframe thead th {\n",
       "        text-align: right;\n",
       "    }\n",
       "</style>\n",
       "<table border=\"1\" class=\"dataframe\">\n",
       "  <thead>\n",
       "    <tr style=\"text-align: right;\">\n",
       "      <th></th>\n",
       "      <th>sucursal_id</th>\n",
       "      <th>producto_id</th>\n",
       "      <th>precio</th>\n",
       "      <th>col_added</th>\n",
       "      <th>numero_archivo</th>\n",
       "    </tr>\n",
       "  </thead>\n",
       "  <tbody>\n",
       "    <tr>\n",
       "      <th>0</th>\n",
       "      <td>2-1-184</td>\n",
       "      <td>0000000002288</td>\n",
       "      <td>29.90</td>\n",
       "      <td>0</td>\n",
       "      <td>2</td>\n",
       "    </tr>\n",
       "    <tr>\n",
       "      <th>1</th>\n",
       "      <td>2-1-206</td>\n",
       "      <td>0000000002288</td>\n",
       "      <td>39.90</td>\n",
       "      <td>0</td>\n",
       "      <td>2</td>\n",
       "    </tr>\n",
       "    <tr>\n",
       "      <th>2</th>\n",
       "      <td>9-1-430</td>\n",
       "      <td>0000000205870</td>\n",
       "      <td>499.99</td>\n",
       "      <td>0</td>\n",
       "      <td>2</td>\n",
       "    </tr>\n",
       "    <tr>\n",
       "      <th>3</th>\n",
       "      <td>9-2-107</td>\n",
       "      <td>0000000205870</td>\n",
       "      <td>539.99</td>\n",
       "      <td>0</td>\n",
       "      <td>2</td>\n",
       "    </tr>\n",
       "    <tr>\n",
       "      <th>4</th>\n",
       "      <td>5218-03-09</td>\n",
       "      <td>0000000205870</td>\n",
       "      <td>539.99</td>\n",
       "      <td>1</td>\n",
       "      <td>2</td>\n",
       "    </tr>\n",
       "    <tr>\n",
       "      <th>...</th>\n",
       "      <td>...</td>\n",
       "      <td>...</td>\n",
       "      <td>...</td>\n",
       "      <td>...</td>\n",
       "      <td>...</td>\n",
       "    </tr>\n",
       "    <tr>\n",
       "      <th>458538</th>\n",
       "      <td>2001-01-25</td>\n",
       "      <td>9569753142128</td>\n",
       "      <td>139.99</td>\n",
       "      <td>1</td>\n",
       "      <td>2</td>\n",
       "    </tr>\n",
       "    <tr>\n",
       "      <th>458539</th>\n",
       "      <td>2001-01-25</td>\n",
       "      <td>9795403001143</td>\n",
       "      <td>34.99</td>\n",
       "      <td>1</td>\n",
       "      <td>2</td>\n",
       "    </tr>\n",
       "    <tr>\n",
       "      <th>458540</th>\n",
       "      <td>2003-01-05</td>\n",
       "      <td>9990385651922</td>\n",
       "      <td>312.50</td>\n",
       "      <td>1</td>\n",
       "      <td>2</td>\n",
       "    </tr>\n",
       "    <tr>\n",
       "      <th>458541</th>\n",
       "      <td>2003-01-05</td>\n",
       "      <td>9990385651939</td>\n",
       "      <td>312.50</td>\n",
       "      <td>1</td>\n",
       "      <td>2</td>\n",
       "    </tr>\n",
       "    <tr>\n",
       "      <th>458542</th>\n",
       "      <td>2003-01-05</td>\n",
       "      <td>9990385651946</td>\n",
       "      <td>198.90</td>\n",
       "      <td>1</td>\n",
       "      <td>2</td>\n",
       "    </tr>\n",
       "  </tbody>\n",
       "</table>\n",
       "<p>458543 rows × 5 columns</p>\n",
       "</div>"
      ],
      "text/plain": [
       "       sucursal_id    producto_id  precio  col_added  numero_archivo\n",
       "0          2-1-184  0000000002288   29.90          0               2\n",
       "1          2-1-206  0000000002288   39.90          0               2\n",
       "2          9-1-430  0000000205870  499.99          0               2\n",
       "3          9-2-107  0000000205870  539.99          0               2\n",
       "4       5218-03-09  0000000205870  539.99          1               2\n",
       "...            ...            ...     ...        ...             ...\n",
       "458538  2001-01-25  9569753142128  139.99          1               2\n",
       "458539  2001-01-25  9795403001143   34.99          1               2\n",
       "458540  2003-01-05  9990385651922  312.50          1               2\n",
       "458541  2003-01-05  9990385651939  312.50          1               2\n",
       "458542  2003-01-05  9990385651946  198.90          1               2\n",
       "\n",
       "[458543 rows x 5 columns]"
      ]
     },
     "execution_count": 52,
     "metadata": {},
     "output_type": "execute_result"
    }
   ],
   "source": [
    "sheet2"
   ]
  },
  {
   "cell_type": "code",
   "execution_count": 20,
   "metadata": {},
   "outputs": [
    {
     "data": {
      "text/plain": [
       "458543"
      ]
     },
     "execution_count": 20,
     "metadata": {},
     "output_type": "execute_result"
    }
   ],
   "source": [
    "sheet2.to_sql('precios_aux', con=mi_conexion, index=False, index_label='id', if_exists='replace')"
   ]
  },
  {
   "cell_type": "code",
   "execution_count": 258,
   "metadata": {},
   "outputs": [],
   "source": [
    "df_precios_=pd.read_sql(\"SELECT * FROM precios\", mi_conexion)"
   ]
  },
  {
   "cell_type": "code",
   "execution_count": 182,
   "metadata": {},
   "outputs": [],
   "source": [
    "precios_concat = pd.concat([df_precios_, sheet2])"
   ]
  },
  {
   "cell_type": "code",
   "execution_count": 183,
   "metadata": {},
   "outputs": [
    {
     "data": {
      "text/plain": [
       "930709"
      ]
     },
     "execution_count": 183,
     "metadata": {},
     "output_type": "execute_result"
    }
   ],
   "source": [
    "precios_concat.to_sql('precios', con=mi_conexion, index=False, index_label='id', if_exists='replace')"
   ]
  },
  {
   "cell_type": "code",
   "execution_count": null,
   "metadata": {},
   "outputs": [],
   "source": [
    "\n",
    "#precios_final=pd.read_sql(\"SELECT * FROM precios_final WHERE numero_archivo=1\", mi_conexion)"
   ]
  },
  {
   "cell_type": "code",
   "execution_count": null,
   "metadata": {},
   "outputs": [],
   "source": [
    "cursor_obj.execute(\"DROP TABLE IF EXISTS precios_tb_final\")\n",
    "table = \"CREATE TABLE precios_tb_final  as SELECT precios_aux.sucursal_id,precios_aux.producto_id,precios_aux.precio,precios_aux.col_added\t,precios_aux.numero_archivo FROM precios_aux LEFT JOIN(SELECT * FROM precios_final) AS prec USING(sucursal_id,producto_id)\" \n",
    "cursor_obj.execute(table)"
   ]
  },
  {
   "cell_type": "code",
   "execution_count": null,
   "metadata": {},
   "outputs": [],
   "source": [
    "df2=sheet2[sheet2[\"col_added\"]==0]\n",
    "df_final.to_sql('precios_final', con=mi_conexion, index=False, index_label='id', if_exists='replace')"
   ]
  },
  {
   "cell_type": "markdown",
   "metadata": {},
   "source": [
    "Tercer archivo"
   ]
  },
  {
   "cell_type": "code",
   "execution_count": 16,
   "metadata": {},
   "outputs": [],
   "source": [
    "sheet1[\"col_added\"]=0\n",
    "new_df=columna_boolean_nan(sheet1)\n",
    "\"\"\"cambia el valor nan por 000000000000 \"\"\"\n",
    "new_df1=borrar_nan_producto_id(new_df)\n",
    "sheet1=new_df1.copy()\n",
    "\"\"\"comprobar sucursalId si no coincide con id de la tabla sucursal\"\"\"\n",
    "list_suc_unicos=[]\n",
    "list_suc_prec=[]\n",
    "list_suc_unicos=array_col_id_unicos(sucursal,\"id\")\n",
    "list_suc_prec=array_col_id_unicos(sheet1,\"sucursal_id\")\n",
    "\n",
    "lis_bin=[]\n",
    "lis_id=[]\n",
    "for e in list_suc_prec:\n",
    "    for i in list_suc_unicos:\n",
    "        if(e == i):\n",
    "            result_id=0\n",
    "        else:\n",
    "            result_id=1\n",
    "            \n",
    "        if (result_id == 0):\n",
    "            break  \n",
    "    lis_bin.append(result_id)\n",
    "    lis_id.append(e)\n",
    "list_zip=list(zip(lis_id,lis_bin))\n",
    "DF=pd.DataFrame()\n",
    "for e,num in enumerate(list_zip):\n",
    "    #print(e,num[0],num[1])\n",
    "    if(num[1]==1):\n",
    "        DF=sheet1[sheet1[\"sucursal_id\"]==num[0]]\n",
    "        DF[\"col_added\"]=1\n",
    "        sheet1[sheet1[\"sucursal_id\"]==num[0]]=DF"
   ]
  },
  {
   "cell_type": "code",
   "execution_count": 17,
   "metadata": {},
   "outputs": [],
   "source": [
    "sheet1[\"numero_archivo\"]=3"
   ]
  },
  {
   "cell_type": "code",
   "execution_count": null,
   "metadata": {},
   "outputs": [],
   "source": [
    "sheet1.to_sql('precios_aux', con=mi_conexion, index=False, index_label='id', if_exists='replace')\n",
    "\n",
    "df_precios_=pd.read_sql(\"SELECT * FROM precios\", mi_conexion)\n",
    "precios_concat = pd.concat([df_precios_, sheet1])\n",
    "precios_concat.to_sql('precios', con=mi_conexion, index=False, index_label='id', if_exists='replace')\n",
    "\n"
   ]
  },
  {
   "cell_type": "code",
   "execution_count": null,
   "metadata": {},
   "outputs": [],
   "source": [
    "cursor_obj.execute(\"DROP TABLE IF EXISTS precios_tb_final\")\n",
    "table = \"CREATE TABLE precios_tb_final  as SELECT precios_aux.sucursal_id,precios_aux.producto_id,precios_aux.precio,precios_aux.col_added\t,precios_aux.numero_archivo FROM precios_aux LEFT JOIN(SELECT * FROM precios_final) AS prec USING(sucursal_id,producto_id)\" \n",
    "cursor_obj.execute(table)"
   ]
  },
  {
   "cell_type": "code",
   "execution_count": null,
   "metadata": {},
   "outputs": [],
   "source": [
    "df_final=sheet1[sheet1[\"col_added\"]==0]\n",
    "df_final.to_sql('precios_final', con=mi_conexion, index=False, index_label='id', if_exists='replace')"
   ]
  },
  {
   "cell_type": "code",
   "execution_count": null,
   "metadata": {},
   "outputs": [],
   "source": []
  },
  {
   "cell_type": "code",
   "execution_count": null,
   "metadata": {},
   "outputs": [],
   "source": [
    "new_df=columna_boolean_nan(sheet1)\n",
    "new_df1=borrar_nan_producto_id(new_df)\n",
    "sheet1=new_df1.copy()"
   ]
  },
  {
   "cell_type": "code",
   "execution_count": 12,
   "metadata": {},
   "outputs": [],
   "source": [
    "sheet1[\"col_added\"]=0\n",
    "new_df=columna_boolean_nan(sheet1)\n",
    "\"\"\"cambia el valor nan por 000000000000 \"\"\"\n",
    "new_df1=borrar_nan_producto_id(new_df)\n",
    "sheet1=new_df1.copy()\n",
    "\"\"\"comprobar sucursalId si no coincide con id de la tabla sucursal\"\"\"\n",
    "list_suc_unicos=[]\n",
    "list_suc_prec=[]\n",
    "list_suc_unicos=array_col_id_unicos(sucursal,\"id\")\n",
    "list_suc_prec=array_col_id_unicos(sheet1,\"sucursal_id\")\n",
    "\n",
    "lis_bin=[]\n",
    "lis_id=[]\n",
    "for e in list_suc_prec:\n",
    "    for i in list_suc_unicos:\n",
    "        if(e == i):\n",
    "            result_id=0\n",
    "        else:\n",
    "            result_id=1\n",
    "            \n",
    "        if (result_id == 0):\n",
    "            break  \n",
    "    lis_bin.append(result_id)\n",
    "    lis_id.append(e)\n",
    "list_zip=list(zip(lis_id,lis_bin))\n",
    "DF=pd.DataFrame()\n",
    "for e,num in enumerate(list_zip):\n",
    "    #print(e,num[0],num[1])\n",
    "    if(num[1]==1):\n",
    "        DF=sheet1[sheet1[\"sucursal_id\"]==num[0]]\n",
    "        DF[\"col_added\"]=1\n",
    "        sheet1[sheet1[\"sucursal_id\"]==num[0]]=DF"
   ]
  },
  {
   "cell_type": "code",
   "execution_count": 13,
   "metadata": {},
   "outputs": [
    {
     "ename": "NameError",
     "evalue": "name 'mi_conexion' is not defined",
     "output_type": "error",
     "traceback": [
      "\u001b[1;31m---------------------------------------------------------------------------\u001b[0m",
      "\u001b[1;31mNameError\u001b[0m                                 Traceback (most recent call last)",
      "\u001b[1;32mc:\\Users\\ROXI\\OneDrive\\Escritorio\\dataset procesados\\jupyter\\ETL.ipynb Celda 52\u001b[0m in \u001b[0;36m<module>\u001b[1;34m\u001b[0m\n\u001b[1;32m----> <a href='vscode-notebook-cell:/c%3A/Users/ROXI/OneDrive/Escritorio/dataset%20procesados/jupyter/ETL.ipynb#Y132sZmlsZQ%3D%3D?line=0'>1</a>\u001b[0m sheet1\u001b[39m.\u001b[39mto_sql(\u001b[39m'\u001b[39m\u001b[39mprecios_aux\u001b[39m\u001b[39m'\u001b[39m, con\u001b[39m=\u001b[39mmi_conexion, index\u001b[39m=\u001b[39m\u001b[39mFalse\u001b[39;00m, index_label\u001b[39m=\u001b[39m\u001b[39m'\u001b[39m\u001b[39mid\u001b[39m\u001b[39m'\u001b[39m, if_exists\u001b[39m=\u001b[39m\u001b[39m'\u001b[39m\u001b[39mreplace\u001b[39m\u001b[39m'\u001b[39m)\n",
      "\u001b[1;31mNameError\u001b[0m: name 'mi_conexion' is not defined"
     ]
    }
   ],
   "source": [
    "sheet1.to_sql('precios_aux', con=mi_conexion, index=False, index_label='id', if_exists='replace')"
   ]
  },
  {
   "cell_type": "code",
   "execution_count": null,
   "metadata": {},
   "outputs": [],
   "source": [
    "list_producto_unicos=[]\n",
    "list_producto_prec=[]\n",
    "list_producto_unicos=array_col_id_unicos(df1,\"id\")\n",
    "list_producto_prec=array_col_id_unicos(sheet1,\"producto_id\")\n",
    "\"\"\"comprobar producto_id si no coincide con id de la tabla sucursal se marca con 1 la columna col_added\"\"\"\n",
    "lis_bin=[]\n",
    "lis_id=[]\n",
    "for e in list_producto_prec:\n",
    "    for i in list_producto_unicos:\n",
    "        if(e == i):\n",
    "            result_id=0\n",
    "        else:\n",
    "            result_id=1\n",
    "            \n",
    "        if (result_id == 0):\n",
    "            break  \n",
    "    lis_bin.append(result_id)\n",
    "    lis_id.append(e)\n",
    "list_zip=list(zip(lis_id,lis_bin))\n",
    "DF=pd.DataFrame()\n",
    "for e,num in enumerate(list_zip):\n",
    "    #print(e,num[0],num[1])\n",
    "    if(num[1]==1):\n",
    "        DF=sheet1[sheet1[\"producto_id\"]==num[0]]\n",
    "        DF[\"col_added\"]=1\n",
    "        sheet1[sheet1[\"producto_id\"]==num[0]]=DF"
   ]
  },
  {
   "cell_type": "code",
   "execution_count": null,
   "metadata": {},
   "outputs": [],
   "source": [
    "sheet1[sheet1[\"col_added\"]==1]"
   ]
  },
  {
   "cell_type": "code",
   "execution_count": null,
   "metadata": {},
   "outputs": [],
   "source": [
    "sheet2.isnull().sum()"
   ]
  },
  {
   "cell_type": "code",
   "execution_count": null,
   "metadata": {},
   "outputs": [],
   "source": [
    "sheet2[sheet2[\"col_added\"]==1]"
   ]
  },
  {
   "cell_type": "code",
   "execution_count": null,
   "metadata": {},
   "outputs": [],
   "source": [
    "sheet2.info()"
   ]
  },
  {
   "cell_type": "code",
   "execution_count": null,
   "metadata": {},
   "outputs": [],
   "source": [
    "sheet2.isnull().sum()"
   ]
  },
  {
   "cell_type": "code",
   "execution_count": null,
   "metadata": {},
   "outputs": [],
   "source": [
    "sheet2"
   ]
  },
  {
   "cell_type": "code",
   "execution_count": null,
   "metadata": {},
   "outputs": [],
   "source": [
    "ruta_archivo_json = r\"C:\\Users\\ROXI\\OneDrive\\Escritorio\\dataset procesados\\jupyter\\precios_semana_20200503_csv.csv\"\n",
    "datos_semana_20200503= pd.read_json(ruta_archivo_json,encoding=\"utf-8\")"
   ]
  }
 ],
 "metadata": {
  "kernelspec": {
   "display_name": "Python 3.10.2 64-bit",
   "language": "python",
   "name": "python3"
  },
  "language_info": {
   "codemirror_mode": {
    "name": "ipython",
    "version": 3
   },
   "file_extension": ".py",
   "mimetype": "text/x-python",
   "name": "python",
   "nbconvert_exporter": "python",
   "pygments_lexer": "ipython3",
   "version": "3.10.2"
  },
  "orig_nbformat": 4,
  "vscode": {
   "interpreter": {
    "hash": "369f2c481f4da34e4445cda3fffd2e751bd1c4d706f27375911949ba6bb62e1c"
   }
  }
 },
 "nbformat": 4,
 "nbformat_minor": 2
}
